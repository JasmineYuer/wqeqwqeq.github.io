{
 "cells": [
  {
   "cell_type": "code",
   "execution_count": 9,
   "metadata": {},
   "outputs": [],
   "source": [
    "import re\n",
    "from urllib.request import urlopen as uReq\n",
    "from bs4 import BeautifulSoup as soup"
   ]
  },
  {
   "cell_type": "code",
   "execution_count": 45,
   "metadata": {},
   "outputs": [],
   "source": [
    "my_url = 'https://iib.int/en/projects/implemented'\n",
    "uClient = uReq(my_url)\n",
    "page_html = uClient.read()\n",
    "uClient.close()\n",
    "\n",
    "#parse HTML\n",
    "page_soup = soup(page_html, \"html.parser\")\n",
    "path=r'C:\\Users\\yzhhu\\Desktop\\G.A.I_summer\\bank grabber\\IIB_data'"
   ]
  },
  {
   "cell_type": "code",
   "execution_count": 12,
   "metadata": {},
   "outputs": [],
   "source": [
    "links = [a['href'] for a in page_soup.find_all('a', href=True)]"
   ]
  },
  {
   "cell_type": "code",
   "execution_count": 48,
   "metadata": {},
   "outputs": [],
   "source": [
    "number = 1\n",
    "lst=[]\n",
    "for link in set(links):\n",
    "    \n",
    "    if \"iib.int/en/project/\" in link:\n",
    "        lst.append(link)"
   ]
  },
  {
   "cell_type": "code",
   "execution_count": 14,
   "metadata": {
    "scrolled": true
   },
   "outputs": [
    {
     "data": {
      "text/plain": [
       "['https://iib.int/en/project/prista-oil',\n",
       " 'https://iib.int/en/project/xacbank-1',\n",
       " 'https://iib.int/en/project/invitel',\n",
       " 'https://iib.int/en/project/cjs-1',\n",
       " 'https://iib.int/en/project/jsc-bank-for-investment-and-development-of-vietnam-bidv',\n",
       " 'https://iib.int/en/project/iulius',\n",
       " 'https://iib.int/en/project/slovenske-elektrarne',\n",
       " 'https://iib.int/en/project/khan-bank',\n",
       " 'https://iib.int/en/project/sofia-urban-mobility-centre',\n",
       " 'https://iib.int/en/project/eurolease-auto-ead',\n",
       " 'https://iib.int/en/project/pjsc-state-transport-leasing-company',\n",
       " 'https://iib.int/en/project/tyras-sa',\n",
       " 'https://iib.int/en/project/development-bank-of-mongolia',\n",
       " 'https://iib.int/en/project/huvepharma',\n",
       " 'https://iib.int/en/project/vietnam-prosperity-joint-stock-commercial-bank-vpbank',\n",
       " 'https://iib.int/en/project/pilsen-toll',\n",
       " 'https://iib.int/en/project/eurohold-bulgaria-ad',\n",
       " 'https://iib.int/en/project/pjs-scbp-primsotsbank',\n",
       " 'https://iib.int/en/project/credit-bank-of-moscow-cbm',\n",
       " 'https://iib.int/en/project/pilsen-toll-sro',\n",
       " 'https://iib.int/en/project/mep-retail-investments-srl',\n",
       " 'https://iib.int/en/project/capital-bank-1',\n",
       " 'https://iib.int/en/project/trade-development-bank-of-mong',\n",
       " 'https://iib.int/en/project/sparky-group',\n",
       " 'https://iib.int/en/project/avicola-buzau-sa',\n",
       " 'https://iib.int/en/project/zao-lysvenskiy-metallurgichesky-zavod',\n",
       " 'https://iib.int/en/project/agricover-credit-ifn-sa',\n",
       " 'https://iib.int/en/project/llc-ivekta',\n",
       " 'https://iib.int/en/project/nord-hydro-white-threshold-llc-ooo-ngbp']"
      ]
     },
     "execution_count": 14,
     "metadata": {},
     "output_type": "execute_result"
    }
   ],
   "source": [
    "lst"
   ]
  },
  {
   "cell_type": "code",
   "execution_count": 31,
   "metadata": {},
   "outputs": [],
   "source": [
    "iibClient = uReq('https://iib.int/en/project/credit-bank-of-moscow-cbm')\n",
    "iibpage_html = iibClient.read()\n",
    "iibClient.close()\n",
    "iibpage_soup = soup(iibpage_html, 'lxml')\n",
    "a=iibpage_soup.find('p',text = re.compile('On'))\n",
    "b=iibpage_soup.find('p',text = re.compile('IIB'))\n",
    "c=iibpage_soup.find('p',text = re.compile('Loan'))\n",
    "d = str(a) + str(b) + str(c)\n",
    "e = d.replace('<p>','</p>')\n",
    "f = e.split('</p>')\n",
    "#################\n",
    "g=[]\n",
    "for i in f:\n",
    "    if len(i)==0:\n",
    "        continue\n",
    "    else:\n",
    "        g.append(i)\n",
    "\n"
   ]
  },
  {
   "cell_type": "code",
   "execution_count": 34,
   "metadata": {
    "scrolled": true
   },
   "outputs": [
    {
     "data": {
      "text/plain": [
       "['On April 18, 2017, syndicated loan agreement for Credit Bank of Moscow, Russia, was signed in the amount of up to EUR 40 million, organized by HSBC Bank (RR) LLC, ING Bank N. V., J.P. Morgan Limited, Raiffeisen Bank International AG, Joint Stock Commercial Bank \"ROSBANK\" (Open joint-stock company) and AO UniCredit Bank. The funds will be used to finance general activities, including the development of corporate business.  ',\n",
       " 'NoneNone']"
      ]
     },
     "execution_count": 34,
     "metadata": {},
     "output_type": "execute_result"
    }
   ],
   "source": [
    "g=[]\n",
    "for i in f:\n",
    "    if len(i)==0:\n",
    "        continue\n",
    "    else:\n",
    "        g.append(i)\n",
    "g"
   ]
  },
  {
   "cell_type": "code",
   "execution_count": null,
   "metadata": {},
   "outputs": [],
   "source": []
  },
  {
   "cell_type": "code",
   "execution_count": null,
   "metadata": {},
   "outputs": [],
   "source": []
  },
  {
   "cell_type": "code",
   "execution_count": null,
   "metadata": {},
   "outputs": [],
   "source": []
  },
  {
   "cell_type": "code",
   "execution_count": null,
   "metadata": {},
   "outputs": [],
   "source": []
  },
  {
   "cell_type": "code",
   "execution_count": null,
   "metadata": {},
   "outputs": [],
   "source": []
  },
  {
   "cell_type": "code",
   "execution_count": null,
   "metadata": {},
   "outputs": [],
   "source": []
  },
  {
   "cell_type": "code",
   "execution_count": 43,
   "metadata": {},
   "outputs": [],
   "source": [
    "def split_name(ss):\n",
    "    return ss.split('project/')[1]"
   ]
  },
  {
   "cell_type": "code",
   "execution_count": 47,
   "metadata": {},
   "outputs": [],
   "source": [
    "for i in lst:\n",
    "        iibClient = uReq(i)\n",
    "        iibpage_html = iibClient.read()\n",
    "        iibClient.close()\n",
    "        name=split_name(i)\n",
    "        iibpage_soup = soup(iibpage_html, 'lxml')\n",
    "        a=iibpage_soup.find('p',text = re.compile('On'))\n",
    "        b=iibpage_soup.find('p',text = re.compile('IIB'))\n",
    "        c=iibpage_soup.find('p',text = re.compile('Loan'))\n",
    "        d = str(a) + str(b) + str(c)\n",
    "        e = d.replace('<p>','</p>')\n",
    "        f = e.split('</p>')\n",
    "        g=[]\n",
    "        for n in f:\n",
    "            if len(n)==0:\n",
    "                continue\n",
    "            else:\n",
    "                g.append(n)\n",
    "        file=open(path+'/'+name+'.txt','w')\n",
    "        [file.write(b + '\\n') for b in g]\n",
    "        file.close()\n",
    "        \n",
    "    \n"
   ]
  },
  {
   "cell_type": "code",
   "execution_count": 39,
   "metadata": {},
   "outputs": [
    {
     "data": {
      "text/plain": [
       "[['On September 30, 2015, a loan agreement with PRISTA OIL (Republic of Bulgaria) was signed in the framework of the syndicated loan with the Bulgarian Development Bank with the total amount of EUR 15 million. The loan will be utilised to finance both PRISTA OIL’s main activities and its export contracts',\n",
       "  'IIB’s share is EUR 10 million',\n",
       "  'None'],\n",
       " ['None',\n",
       "  'The International Investment Bank (IIB) has joined the International Finance Corporation (IFC) and the Netherlands Development Finance Company (FMO), which have organised a syndicated USD 125.5 million facility for Mongolia’s XacBank, one of the leading lenders to micro and small businesses in the country.',\n",
       "  'Loan term - 3 years.'],\n",
       " ['On June 5, 2017, syndicated loan agreement organized by UniCredit S.P.A., was signed for finance the acquisition of the telecommunications group Invitel, Hungary, by the Ilford Holding Kft. The share of IIB in the project is 7,750 million HUF.  ',\n",
       "  'On June 5, 2017, syndicated loan agreement organized by UniCredit S.P.A., was signed for finance the acquisition of the telecommunications group Invitel, Hungary, by the Ilford Holding Kft. The share of IIB in the project is 7,750 million HUF.  ',\n",
       "  'None'],\n",
       " [\"On December 30, 2013 a credit agreement was signed with CJS 'Transcapitalbank' on financing energy efficient projects. The syndicated loan was organized by IFC (International Finance Corporation).\",\n",
       "  'The credit share, provided by the IIB, is EUR 20 million',\n",
       "  'None'],\n",
       " ['On December 4, 2015, the IIB signed a loan agreement with JSC Bank for Investment and Development of Vietnam (BIDV). The credit facility will be used to finance small and medium-sized enterprises in Vietnam.',\n",
       "  'On December 4, 2015, the IIB signed a loan agreement with JSC Bank for Investment and Development of Vietnam (BIDV). The credit facility will be used to finance small and medium-sized enterprises in Vietnam.',\n",
       "  'Loan term is 5 years.'],\n",
       " ['On July 27, 2017, a syndicated loan agreement was concluded for companies of the Iulius Group, Romania, in the amount of up to 20 million EUR. The loan will be used to provide long-term financing of regional shopping centers in Romania.  ',\n",
       "  'NoneNone'],\n",
       " [\"  On June 14, 2017, a credit agreement in the amount of 60 million EUR was signed with Slovenske Elektrarne, Slovakia. The loan will be used to finance the company's corporate goals, including export-import operations with IIB member-countries.  \",\n",
       "  \"  On June 14, 2017, a credit agreement in the amount of 60 million EUR was signed with Slovenske Elektrarne, Slovakia. The loan will be used to finance the company's corporate goals, including export-import operations with IIB member-countries.  \",\n",
       "  'None'],\n",
       " ['On\\xa0October 17, 2013, a\\xa0loan agreement was signed with Mongolian Khan Bank on\\xa0lending to\\xa0the country’s SMEs.',\n",
       "  'The credit share, provided by\\xa0the IIB, reaches USD 10 million.',\n",
       "  'None'],\n",
       " ['On\\xa0July 24, 2015, the IIB signed an\\xa0Agreement on\\xa0financing Sofia Urban Mobility Centre (Bulgaria)\\xa0— a\\xa0subsidiary of\\xa0the Sofia Municipality\\xa0— in\\xa0the framework of\\xa0the syndicated loan, organised by\\xa0the Bulgarian Development Bank with the total amount of\\xa0BGN 81 million (EUR 41.4 million). The loan facility will be\\xa0used for development of\\xa0the Sofia’s public transport system.',\n",
       "  'On\\xa0July 24, 2015, the IIB signed an\\xa0Agreement on\\xa0financing Sofia Urban Mobility Centre (Bulgaria)\\xa0— a\\xa0subsidiary of\\xa0the Sofia Municipality\\xa0— in\\xa0the framework of\\xa0the syndicated loan, organised by\\xa0the Bulgarian Development Bank with the total amount of\\xa0BGN 81 million (EUR 41.4 million). The loan facility will be\\xa0used for development of\\xa0the Sofia’s public transport system.',\n",
       "  'None'],\n",
       " ['On\\xa0December 2, 2014 a\\xa0Loan Participation Agreement was signed with VTB Bank (Austria) AG\\xa0on a\\xa0syndicated loan for Eurolease Auto EAD to\\xa0purchase new vehicles with eventual leasing thereof to\\xa0SME entities.',\n",
       "  'The IIB’s share is\\xa0EUR 7 million',\n",
       "  'On\\xa0December 2, 2014 a\\xa0Loan Participation Agreement was signed with VTB Bank (Austria) AG\\xa0on a\\xa0syndicated loan for Eurolease Auto EAD to\\xa0purchase new vehicles with eventual leasing thereof to\\xa0SME entities.'],\n",
       " ['On November 16, 2016, a loan agreement with the PJSC \"State Transport Leasing Company\" (STLC), Russia, was signed for the amount of USD 33 million. The funds will be utilized for finance/refinance of the leasing agreement for L-410 UVP E20 aircrafts, manufactured in Czech Republic, concluded with the Aeroservice LLC, KrasAvia group of companies, JSC Komiaviatrans, Federal Sate Unitary Enterprise \"International airport \"Orenburg.\"',\n",
       "  'NoneNone'],\n",
       " ['On April 29, 2016, a loan agreement with Tyras S.A. (Greece) was signed in the framework with of a syndicated loan with the Black Sea Trade and Development Bank (BSTDB). The funds will be utilized for purchasing equipment to increase production and the range of products offered, as well as to finance working capital needs.',\n",
       "  'IIB’s share – EUR 22 million',\n",
       "  'Loan term – 7 years'],\n",
       " ['On\\xa0September 14, 2015, the IIB signed a\\xa0loan agreement with the Development Bank of\\xa0Mongolia. The loan facility will be\\xa0used to\\xa0support the SME sector, in\\xa0particular to\\xa0contribute to\\xa0the implementation of\\xa0socially significant projects.',\n",
       "  'On\\xa0September 14, 2015, the IIB signed a\\xa0loan agreement with the Development Bank of\\xa0Mongolia. The loan facility will be\\xa0used to\\xa0support the SME sector, in\\xa0particular to\\xa0contribute to\\xa0the implementation of\\xa0socially significant projects.',\n",
       "  'None'],\n",
       " ['On March 4, 2016, a loan agreement with Huvepharma (Republic of Bulgaria) was signed in the framework of the syndicated loan with Citi. The proceeds from the transaction will be used to finance the acquisition of the portfolio of assets from Zoetis, as well as for capital expenditure and general corporate purposes.',\n",
       "  'IIB’s share – USD 20 million',\n",
       "  'Loan term – 57 months '],\n",
       " ['On March 7, 2017, the IIB has signed an agreement with the International Finance Corporation (IFC) on participation in a syndicated loan in favor of Vietnam Prosperity Joint Stock Commercial Bank (VPBank), Vietnam, for a total of 50 million US $ (IIB share - 10 million US $) for development of lending to small and medium-sized businesses.  ',\n",
       "  'On March 7, 2017, the IIB has signed an agreement with the International Finance Corporation (IFC) on participation in a syndicated loan in favor of Vietnam Prosperity Joint Stock Commercial Bank (VPBank), Vietnam, for a total of 50 million US $ (IIB share - 10 million US $) for development of lending to small and medium-sized businesses.  ',\n",
       "  'None'],\n",
       " ['NoneNone', 'Loan term - 3 years.'],\n",
       " ['On\\xa0December 18, 2014 a\\xa0loan agreement was signed with Eurohold Bulgaria\\xa0AD. The funds will be\\xa0used by\\xa0the company to\\xa0increase the capital of\\xa0Euroins Romania and Euroins Bulgaria with the aim to\\xa0develop insurance business in\\xa0the territories of\\xa0Romania and the Republic of\\xa0Bulgaria.',\n",
       "  'NoneNone'],\n",
       " ['On September 29, 2016, a Guaranty agreement with PJS SCBP \"Primsotsbank\" to secure its obligations towards SME Bank was signed for the amount of RUB 312.6 million.',\n",
       "  'NoneNone'],\n",
       " ['On April 18, 2017, syndicated loan agreement for Credit Bank of Moscow, Russia, was signed in the amount of up to EUR 40 million, organized by HSBC Bank (RR) LLC, ING Bank N. V., J.P. Morgan Limited, Raiffeisen Bank International AG, Joint Stock Commercial Bank \"ROSBANK\" (Open joint-stock company) and AO UniCredit Bank. The funds will be used to finance general activities, including the development of corporate business.  ',\n",
       "  'NoneNone'],\n",
       " ['  On September 18, 2017, a second loan agreement was signed with Pilsen Toll s.r.o., Czech Republic, for the amount of 15 million EUR to replenish working capital.  ',\n",
       "  'NoneNone'],\n",
       " ['On March 22, 2017 conclusion of an agreement under which the IIB took part in the syndicated loan of MEP Retail Investments SRL, Romania, for a total amount of 1,380 million RON (share of the IIB is 75 million RON) for financing the acquisition of the company Profi Rom Food SRL, Romania. The syndication is organized by Citibank N.A., London Branch, Citibank Europe plc, Dublin, Romania Branch, ING Bank N.V., London Branch, Raiffeisen Bank International AG and UniCredit SpA.  ',\n",
       "  'On March 22, 2017 conclusion of an agreement under which the IIB took part in the syndicated loan of MEP Retail Investments SRL, Romania, for a total amount of 1,380 million RON (share of the IIB is 75 million RON) for financing the acquisition of the company Profi Rom Food SRL, Romania. The syndication is organized by Citibank N.A., London Branch, Citibank Europe plc, Dublin, Romania Branch, ING Bank N.V., London Branch, Raiffeisen Bank International AG and UniCredit SpA.  ',\n",
       "  'None'],\n",
       " ['On December 9, 2015, the IIB concluded a loan agreement with mongolian Capital Bank. The loan facilities will be directed for development of small and medium-sized enterprises in Mongolia.',\n",
       "  'On December 9, 2015, the IIB concluded a loan agreement with mongolian Capital Bank. The loan facilities will be directed for development of small and medium-sized enterprises in Mongolia.',\n",
       "  'Loan term – 4 years. '],\n",
       " ['On\\xa0September 16, 2013, a\\xa0loan agreement was signed with Trade and Development Bank of\\xa0Mongolia on\\xa0providing finance for the bank’s credit operations in\\xa0Mongolian territory, including lending to\\xa0SMEs.',\n",
       "  'The credit share, provided by\\xa0the IIB, is\\xa0USD 10 million',\n",
       "  'None'],\n",
       " ['On March 20, 2015, a loan agreement with Sparky Group (Republic of Bulgaria) was signed in the framework of the syndicated loan with the Bulgarian Development Bank with the total amount of EUR 10 million. The loan facility will be used to realize the project on creating production of wireless electric tools.',\n",
       "  'IIB’s share — EUR 7 million',\n",
       "  'Loan term — 7 years.'],\n",
       " ['On July 08, 2016, a loan agreement with Avicola Buzau SA (group “Aaylex”, CocoRico brand), Romania, was signed for the amount of EUR 4.3 million. The funds will be utilized for the purchase of assets (poultry farms and slaughtering facilities) in order to increase its own poultry production.',\n",
       "  'NoneNone'],\n",
       " ['NoneNoneNone'],\n",
       " ['On\\xa0July 13, 2015, the IIB signed a\\xa0loan agreement with Agricover Credit IFN\\xa0SA (Romania). The loan facility will be\\xa0used for support of\\xa0Romanian small and medium-sized farmers.',\n",
       "  'On\\xa0July 13, 2015, the IIB signed a\\xa0loan agreement with Agricover Credit IFN\\xa0SA (Romania). The loan facility will be\\xa0used for support of\\xa0Romanian small and medium-sized farmers.',\n",
       "  'None'],\n",
       " ['On\\xa0November 20, 2014, a\\xa0loan agreement was signed with LLC Ivekta (Russian Federation) to\\xa0provide finance for the export of\\xa0Russian-made equipment/spare parts.',\n",
       "  'NoneNone'],\n",
       " ['On March 29, 2017, the IIB, the Eurasian Development Bank (EDB) and Nord Hydro-White Threshold LLC (OOO NGBP), Russia, signed loan agreement for a total of 8,150 million RUB (the share of the IIB to 4 075 million RUB) for financing the construction of hydroelectric power plants of the MHPP \"Beloporozhskaya HPP1\" and MHPP \"Beloporozhskaya HPP-2\" in the Republic of Karelia.  ',\n",
       "  'On March 29, 2017, the IIB, the Eurasian Development Bank (EDB) and Nord Hydro-White Threshold LLC (OOO NGBP), Russia, signed loan agreement for a total of 8,150 million RUB (the share of the IIB to 4 075 million RUB) for financing the construction of hydroelectric power plants of the MHPP \"Beloporozhskaya HPP1\" and MHPP \"Beloporozhskaya HPP-2\" in the Republic of Karelia.  ',\n",
       "  'None']]"
      ]
     },
     "execution_count": 39,
     "metadata": {},
     "output_type": "execute_result"
    }
   ],
   "source": [
    "llst"
   ]
  },
  {
   "cell_type": "code",
   "execution_count": 134,
   "metadata": {},
   "outputs": [
    {
     "name": "stdout",
     "output_type": "stream",
     "text": [
      "1\n",
      "2\n",
      "3\n",
      "4\n",
      "5\n",
      "6\n",
      "7\n",
      "8\n",
      "9\n",
      "10\n",
      "11\n",
      "12\n",
      "13\n",
      "14\n",
      "15\n",
      "16\n",
      "17\n",
      "18\n",
      "19\n",
      "20\n",
      "21\n",
      "22\n",
      "23\n",
      "24\n",
      "25\n",
      "26\n",
      "27\n",
      "28\n",
      "29\n"
     ]
    }
   ],
   "source": [
    "number = 1\n",
    "lst=[]\n",
    "for link in set(links):\n",
    "    \n",
    "    if \"iib.int/en/project/\" in link:\n",
    "        iibClient = uReq(link)\n",
    "        iibpage_html = iibClient.read()\n",
    "        iibClient.close()\n",
    "        iibpage_soup = soup(iibpage_html, 'lxml')\n",
    "        a=page_soup.find('p',text = re.compile('On'))\n",
    "        b=page_soup.find('p',text = re.compile('IIB'))\n",
    "        c=page_soup.find('p',text = re.compile('Loan'))\n",
    "        d = str(a) + str(b) + str(c)\n",
    "        e = d.replace('<p>','</p>')\n",
    "        f = e.split('</p>')\n",
    "        g=[]\n",
    "        for i in f:\n",
    "            if len(i)==0:\n",
    "                continue\n",
    "            else:\n",
    "                g.append(i)\n",
    "        file=open('international Investment Bank.txt','a')\n",
    "        [file.write(i + '\\n') for i in g]\n",
    "       # [file.write('\\n')]\n",
    "       # [file.write('\\n')]\n",
    "        file.close()\n",
    "        print(number)\n",
    "        number += 1\n"
   ]
  },
  {
   "cell_type": "code",
   "execution_count": 108,
   "metadata": {},
   "outputs": [],
   "source": []
  },
  {
   "cell_type": "code",
   "execution_count": 111,
   "metadata": {},
   "outputs": [
    {
     "data": {
      "text/plain": [
       "[<h1 class=\"logo\" itemprop=\"name\"><a href=\"https://iib.int/en\">International Investment Bank</a></h1>,\n",
       " <h1 itemprop=\"name\">Sparky Eltos AD</h1>]"
      ]
     },
     "execution_count": 111,
     "metadata": {},
     "output_type": "execute_result"
    }
   ],
   "source": [
    "z='https://iib.int/en/project/sparky-group'\n",
    "uClient = uReq(z)\n",
    "page_html = uClient.read()\n",
    "uClient.close()\n",
    "page_soup = soup(page_html, \"html.parser\")\n",
    "linkw = page_soup.find_all('h1',attrs={'itemprop':'name'})\n",
    "linkw"
   ]
  },
  {
   "cell_type": "code",
   "execution_count": 137,
   "metadata": {},
   "outputs": [
    {
     "name": "stdout",
     "output_type": "stream",
     "text": [
      "1\n",
      "2\n",
      "3\n",
      "4\n",
      "5\n",
      "6\n",
      "7\n",
      "8\n",
      "9\n",
      "10\n",
      "11\n",
      "12\n",
      "13\n",
      "14\n",
      "15\n",
      "16\n",
      "17\n",
      "18\n",
      "19\n",
      "20\n",
      "21\n",
      "22\n",
      "23\n",
      "24\n",
      "25\n",
      "26\n",
      "27\n",
      "28\n",
      "29\n"
     ]
    }
   ],
   "source": [
    "number = 1\n",
    "lst=[]\n",
    "for link in set(links):\n",
    "    \n",
    "    if \"iib.int/en/project/\" in link:\n",
    "        iibClient = uReq(link)\n",
    "        iibpage_html = iibClient.read()\n",
    "        iibClient.close()\n",
    "        iibpage_soup = soup(iibpage_html, 'lxml')\n",
    "        a=page_soup.find('p',text = re.compile('On'))\n",
    "        b=page_soup.find('p',text = re.compile('IIB'))\n",
    "        c=page_soup.find('p',text = re.compile('Loan'))\n",
    "        d = str(a) + str(b) + str(c)\n",
    "        e = d.replace('<p>','</p>')\n",
    "        f = e.split('</p>')\n",
    "        g=[]\n",
    "        for i in f:\n",
    "            if len(i)==0:\n",
    "                continue\n",
    "            else:\n",
    "                g.append(i)\n",
    "        file=open('international Investment Bank.txt','a')\n",
    "        [file.write(i + '\\n') for i in g]\n",
    "       # [file.write('\\n')]\n",
    "       # [file.write('\\n')]\n",
    "        file.close()\n",
    "        lst.append(g)\n",
    "        print(number)\n",
    "        number += 1\n"
   ]
  },
  {
   "cell_type": "code",
   "execution_count": 138,
   "metadata": {},
   "outputs": [
    {
     "data": {
      "text/plain": [
       "[['  On September 18, 2017, a second loan agreement was signed with Pilsen Toll s.r.o., Czech Republic, for the amount of 15 million EUR to replenish working capital.  ',\n",
       "  'NoneNone'],\n",
       " ['  On September 18, 2017, a second loan agreement was signed with Pilsen Toll s.r.o., Czech Republic, for the amount of 15 million EUR to replenish working capital.  ',\n",
       "  'NoneNone'],\n",
       " ['  On September 18, 2017, a second loan agreement was signed with Pilsen Toll s.r.o., Czech Republic, for the amount of 15 million EUR to replenish working capital.  ',\n",
       "  'NoneNone'],\n",
       " ['  On September 18, 2017, a second loan agreement was signed with Pilsen Toll s.r.o., Czech Republic, for the amount of 15 million EUR to replenish working capital.  ',\n",
       "  'NoneNone'],\n",
       " ['  On September 18, 2017, a second loan agreement was signed with Pilsen Toll s.r.o., Czech Republic, for the amount of 15 million EUR to replenish working capital.  ',\n",
       "  'NoneNone'],\n",
       " ['  On September 18, 2017, a second loan agreement was signed with Pilsen Toll s.r.o., Czech Republic, for the amount of 15 million EUR to replenish working capital.  ',\n",
       "  'NoneNone'],\n",
       " ['  On September 18, 2017, a second loan agreement was signed with Pilsen Toll s.r.o., Czech Republic, for the amount of 15 million EUR to replenish working capital.  ',\n",
       "  'NoneNone'],\n",
       " ['  On September 18, 2017, a second loan agreement was signed with Pilsen Toll s.r.o., Czech Republic, for the amount of 15 million EUR to replenish working capital.  ',\n",
       "  'NoneNone'],\n",
       " ['  On September 18, 2017, a second loan agreement was signed with Pilsen Toll s.r.o., Czech Republic, for the amount of 15 million EUR to replenish working capital.  ',\n",
       "  'NoneNone'],\n",
       " ['  On September 18, 2017, a second loan agreement was signed with Pilsen Toll s.r.o., Czech Republic, for the amount of 15 million EUR to replenish working capital.  ',\n",
       "  'NoneNone'],\n",
       " ['  On September 18, 2017, a second loan agreement was signed with Pilsen Toll s.r.o., Czech Republic, for the amount of 15 million EUR to replenish working capital.  ',\n",
       "  'NoneNone'],\n",
       " ['  On September 18, 2017, a second loan agreement was signed with Pilsen Toll s.r.o., Czech Republic, for the amount of 15 million EUR to replenish working capital.  ',\n",
       "  'NoneNone'],\n",
       " ['  On September 18, 2017, a second loan agreement was signed with Pilsen Toll s.r.o., Czech Republic, for the amount of 15 million EUR to replenish working capital.  ',\n",
       "  'NoneNone'],\n",
       " ['  On September 18, 2017, a second loan agreement was signed with Pilsen Toll s.r.o., Czech Republic, for the amount of 15 million EUR to replenish working capital.  ',\n",
       "  'NoneNone'],\n",
       " ['  On September 18, 2017, a second loan agreement was signed with Pilsen Toll s.r.o., Czech Republic, for the amount of 15 million EUR to replenish working capital.  ',\n",
       "  'NoneNone'],\n",
       " ['  On September 18, 2017, a second loan agreement was signed with Pilsen Toll s.r.o., Czech Republic, for the amount of 15 million EUR to replenish working capital.  ',\n",
       "  'NoneNone'],\n",
       " ['  On September 18, 2017, a second loan agreement was signed with Pilsen Toll s.r.o., Czech Republic, for the amount of 15 million EUR to replenish working capital.  ',\n",
       "  'NoneNone'],\n",
       " ['  On September 18, 2017, a second loan agreement was signed with Pilsen Toll s.r.o., Czech Republic, for the amount of 15 million EUR to replenish working capital.  ',\n",
       "  'NoneNone'],\n",
       " ['  On September 18, 2017, a second loan agreement was signed with Pilsen Toll s.r.o., Czech Republic, for the amount of 15 million EUR to replenish working capital.  ',\n",
       "  'NoneNone'],\n",
       " ['  On September 18, 2017, a second loan agreement was signed with Pilsen Toll s.r.o., Czech Republic, for the amount of 15 million EUR to replenish working capital.  ',\n",
       "  'NoneNone'],\n",
       " ['  On September 18, 2017, a second loan agreement was signed with Pilsen Toll s.r.o., Czech Republic, for the amount of 15 million EUR to replenish working capital.  ',\n",
       "  'NoneNone'],\n",
       " ['  On September 18, 2017, a second loan agreement was signed with Pilsen Toll s.r.o., Czech Republic, for the amount of 15 million EUR to replenish working capital.  ',\n",
       "  'NoneNone'],\n",
       " ['  On September 18, 2017, a second loan agreement was signed with Pilsen Toll s.r.o., Czech Republic, for the amount of 15 million EUR to replenish working capital.  ',\n",
       "  'NoneNone'],\n",
       " ['  On September 18, 2017, a second loan agreement was signed with Pilsen Toll s.r.o., Czech Republic, for the amount of 15 million EUR to replenish working capital.  ',\n",
       "  'NoneNone'],\n",
       " ['  On September 18, 2017, a second loan agreement was signed with Pilsen Toll s.r.o., Czech Republic, for the amount of 15 million EUR to replenish working capital.  ',\n",
       "  'NoneNone'],\n",
       " ['  On September 18, 2017, a second loan agreement was signed with Pilsen Toll s.r.o., Czech Republic, for the amount of 15 million EUR to replenish working capital.  ',\n",
       "  'NoneNone'],\n",
       " ['  On September 18, 2017, a second loan agreement was signed with Pilsen Toll s.r.o., Czech Republic, for the amount of 15 million EUR to replenish working capital.  ',\n",
       "  'NoneNone'],\n",
       " ['  On September 18, 2017, a second loan agreement was signed with Pilsen Toll s.r.o., Czech Republic, for the amount of 15 million EUR to replenish working capital.  ',\n",
       "  'NoneNone'],\n",
       " ['  On September 18, 2017, a second loan agreement was signed with Pilsen Toll s.r.o., Czech Republic, for the amount of 15 million EUR to replenish working capital.  ',\n",
       "  'NoneNone']]"
      ]
     },
     "execution_count": 138,
     "metadata": {},
     "output_type": "execute_result"
    }
   ],
   "source": [
    "lst"
   ]
  },
  {
   "cell_type": "code",
   "execution_count": null,
   "metadata": {},
   "outputs": [],
   "source": []
  }
 ],
 "metadata": {
  "kernelspec": {
   "display_name": "Python 3",
   "language": "python",
   "name": "python3"
  },
  "language_info": {
   "codemirror_mode": {
    "name": "ipython",
    "version": 3
   },
   "file_extension": ".py",
   "mimetype": "text/x-python",
   "name": "python",
   "nbconvert_exporter": "python",
   "pygments_lexer": "ipython3",
   "version": "3.7.3"
  }
 },
 "nbformat": 4,
 "nbformat_minor": 2
}
